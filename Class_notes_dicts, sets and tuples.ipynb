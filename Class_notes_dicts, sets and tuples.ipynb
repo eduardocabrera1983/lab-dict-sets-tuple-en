{
 "cells": [
  {
   "cell_type": "markdown",
   "metadata": {},
   "source": []
  },
  {
   "cell_type": "code",
   "execution_count": 1,
   "metadata": {},
   "outputs": [],
   "source": [
    "# let's create a dictionary that counts the number of occurences of each letter in a string\n",
    "# (i.e. you give it a letter and it tells you back how often it appears)\n",
    "sentence = \"one ring to rule them all one ring to find them one ring to bring them all and in the darkness bind them\"\n"
   ]
  },
  {
   "cell_type": "code",
   "execution_count": null,
   "metadata": {},
   "outputs": [],
   "source": []
  },
  {
   "cell_type": "code",
   "execution_count": 4,
   "metadata": {},
   "outputs": [
    {
     "name": "stdout",
     "output_type": "stream",
     "text": [
      "{'o': 1, 'n': 2, 'e': 1, ' ': 1, 'r': 1, 'i': 1}\n"
     ]
    }
   ],
   "source": [
    "count_letters = {}\n",
    "for letter in sentence [:7]:\n",
    "    if letter in count_letters:\n",
    "        count_letters[letter] += 1\n",
    "    else:\n",
    "        count_letters[letter] = 1\n",
    "print(count_letters)\n",
    "\n"
   ]
  },
  {
   "cell_type": "code",
   "execution_count": 6,
   "metadata": {},
   "outputs": [
    {
     "name": "stdout",
     "output_type": "stream",
     "text": [
      "['one', 'ring', 'to', 'rule', 'them', 'all', 'one', 'ring', 'to', 'find', 'them', 'one', 'ring', 'to', 'bring', 'them', 'all', 'and', 'in', 'the', 'darkness', 'bind', 'them']\n"
     ]
    }
   ],
   "source": [
    "# do it yourself: create a dictionary that counts the number of occurences of each word in a string\n",
    "word_list = sentence.split(\" \")\n",
    "print(word_list)"
   ]
  },
  {
   "cell_type": "code",
   "execution_count": 16,
   "metadata": {},
   "outputs": [
    {
     "name": "stdout",
     "output_type": "stream",
     "text": [
      "one ring to rule them all one ring to find them one ring to bring them all and in the darkness bind them\n",
      "['one', 'ring', 'to', 'rule', 'them', 'all', 'one', 'ring', 'to', 'find', 'them', 'one', 'ring', 'to', 'bring', 'them', 'all', 'and', 'in', 'the', 'darkness', 'bind', 'them']\n",
      "{'one': 3, 'ring': 3, 'to': 3, 'rule': 1, 'them': 4, 'all': 2, 'find': 1, 'bring': 1, 'and': 1, 'in': 1, 'the': 1, 'darkness': 1, 'bind': 1}\n",
      "[('all', 2), ('and', 1), ('bind', 1), ('bring', 1), ('darkness', 1), ('find', 1), ('in', 1), ('one', 3), ('ring', 3), ('rule', 1), ('the', 1), ('them', 4), ('to', 3)]\n"
     ]
    }
   ],
   "source": [
    "sentence = \"one ring to rule them all one ring to find them one ring to bring them all and in the darkness bind them\"\n",
    "print(sentence)\n",
    "word_list = sentence.split(\" \")\n",
    "print(word_list)\n",
    "\n",
    "#Exercise: create a dictionary that counts the number of occurences of each word in a string\n",
    "\n",
    "count_words = {}\n",
    "for word in word_list:\n",
    "    if word in count_words.keys():\n",
    "        count_words[word] += 1\n",
    "    else:\n",
    "        count_words[word] = 1\n",
    "print(count_words)\n",
    "count_words_sorted = sorted(count_words.items())\n",
    "print(count_words_sorted)\n",
    "\n",
    "##alternative solution\n",
    "# for word in word_list:\n",
    "#     if word not in count_words.keys():\n",
    "#         count_words[word] = word_list.count(word)\n"
   ]
  },
  {
   "cell_type": "code",
   "execution_count": 17,
   "metadata": {},
   "outputs": [
    {
     "data": {
      "text/plain": [
       "{'David': {'Data Education Team'},\n",
       " 'Goncalo': {'Data Education Team', 'Data Student'},\n",
       " 'Angela': {'Data Student'},\n",
       " 'Florian': {'WebDev Education Team'},\n",
       " 'Amelie': {'Administration Team', 'Data Student'}}"
      ]
     },
     "execution_count": 17,
     "metadata": {},
     "output_type": "execute_result"
    }
   ],
   "source": [
    "my_improved_dict = {}\n",
    "my_improved_dict['David'] = {\"Data Education Team\"}\n",
    "my_improved_dict['Goncalo'] = {\"Data Education Team\", \"Data Student\"}\n",
    "my_improved_dict['Angela'] = {\"Data Student\"}\n",
    "my_improved_dict['Florian'] = {\"WebDev Education Team\"}\n",
    "my_improved_dict['Amelie'] = {\"Data Student\", \"Administration Team\"}\n",
    "my_improved_dict"
   ]
  },
  {
   "cell_type": "code",
   "execution_count": null,
   "metadata": {},
   "outputs": [],
   "source": []
  }
 ],
 "metadata": {
  "kernelspec": {
   "display_name": "Python 3",
   "language": "python",
   "name": "python3"
  },
  "language_info": {
   "codemirror_mode": {
    "name": "ipython",
    "version": 3
   },
   "file_extension": ".py",
   "mimetype": "text/x-python",
   "name": "python",
   "nbconvert_exporter": "python",
   "pygments_lexer": "ipython3",
   "version": "3.13.2"
  }
 },
 "nbformat": 4,
 "nbformat_minor": 2
}
